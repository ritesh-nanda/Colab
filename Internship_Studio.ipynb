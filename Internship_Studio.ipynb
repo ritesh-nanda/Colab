{
  "nbformat": 4,
  "nbformat_minor": 0,
  "metadata": {
    "colab": {
      "name": "Internship Studio.ipynb",
      "provenance": [],
      "collapsed_sections": [],
      "authorship_tag": "ABX9TyPS44sEUZBx6xRy3tMbzCzJ",
      "include_colab_link": true
    },
    "kernelspec": {
      "name": "python3",
      "display_name": "Python 3"
    },
    "language_info": {
      "name": "python"
    },
    "accelerator": "GPU"
  },
  "cells": [
    {
      "cell_type": "markdown",
      "metadata": {
        "id": "view-in-github",
        "colab_type": "text"
      },
      "source": [
        "<a href=\"https://colab.research.google.com/github/ritesh-nanda/Colab/blob/main/Internship_Studio.ipynb\" target=\"_parent\"><img src=\"https://colab.research.google.com/assets/colab-badge.svg\" alt=\"Open In Colab\"/></a>"
      ]
    },
    {
      "cell_type": "markdown",
      "metadata": {
        "id": "ppgcKB284NUG"
      },
      "source": [
        "Importing"
      ]
    },
    {
      "cell_type": "code",
      "metadata": {
        "id": "01XVAr1j3utN"
      },
      "source": [
        "import datetime\n",
        "import time \n",
        "\n",
        "import pandas as pd\n",
        "\n",
        "import matplotlib.pyplot as plt\n",
        "import seaborn as sns\n",
        "\n",
        "import numpy as np \n",
        "\n",
        "from sklearn.preprocessing import LabelEncoder, MinMaxScaler\n",
        "from sklearn import metrics\n",
        "from sklearn.model_selection import train_test_split\n",
        "\n",
        "from sklearn.linear_model import LinearRegression\n",
        "from sklearn.svm import SVR\n",
        "from sklearn.tree import DecisionTreeRegressor\n",
        "from sklearn.ensemble import RandomForestRegressor\n",
        "\n",
        "from tensorflow import keras"
      ],
      "execution_count": 1,
      "outputs": []
    },
    {
      "cell_type": "code",
      "metadata": {
        "id": "xa6o74Ob7paa"
      },
      "source": [
        "def checki(x):\n",
        "  y=x[2:]\n",
        "  h=''\n",
        "  m=''\n",
        "  s=''\n",
        "  mm=''\n",
        "  P = ['H', 'M', 'S']\n",
        "  for i in y:\n",
        "    if i not in P:\n",
        "      mm+=i\n",
        "    else:\n",
        "      if(i==\"H\"):\n",
        "        h=mm\n",
        "        mm=''\n",
        "      elif (i == \"M\"):\n",
        "        m=mm\n",
        "        mm=''\n",
        "      else:\n",
        "        s=mm\n",
        "        mm=''\n",
        "      if (h==''):\n",
        "        h='00'\n",
        "      if (m==''):\n",
        "        m='00'\n",
        "      if (s==''):\n",
        "        s='00'\n",
        "      \n",
        "      bp = h+':'+m+':'+s\n",
        "      return bp\n"
      ],
      "execution_count": 2,
      "outputs": []
    },
    {
      "cell_type": "markdown",
      "metadata": {
        "id": "EvG5d8F_4Txz"
      },
      "source": [
        "Preprocessing"
      ]
    },
    {
      "cell_type": "code",
      "metadata": {
        "colab": {
          "base_uri": "https://localhost:8080/",
          "height": 238
        },
        "id": "jfT-Mhs83zpT",
        "outputId": "d865e817-7ba5-409b-9b0b-7ad54f2d3ec4"
      },
      "source": [
        "data = pd.read_csv('train.csv')\n",
        "df = pd.DataFrame(data)\n",
        "print(df.shape)\n",
        "df.head()\n",
        "\n",
        "df = df[df.views!='F']\n",
        "df = df[df.likes!='F']\n",
        "df = df[df.dislikes!='F']\n",
        "df = df[df.comment!='F']\n",
        "\n",
        "print(df.shape)\n",
        "\n",
        "df['views'] = pd.to_numeric(df['views'])\n",
        "df['likes'] = pd.to_numeric(df['likes'])\n",
        "df['dislikes'] = pd.to_numeric(df['dislikes'])\n",
        "df['comment'] = pd.to_numeric(df['comment'])\n",
        "df['adview'] = pd.to_numeric(df['adview'])\n",
        "\n",
        "video_id = df.vidid\n",
        "\n",
        "df['vidid'] = LabelEncoder().fit_transform(df['vidid'])\n",
        "df['published'] = LabelEncoder().fit_transform(df['published'])\n",
        "df['duration'] = LabelEncoder().fit_transform(df['duration'])\n",
        "df['category'] = LabelEncoder().fit_transform(df['category'])\n",
        "\n",
        "time = data[\"duration\"].apply(checki)\n",
        "def func_sec(time_string):\n",
        "  h,m,s = time_string.split(':')\n",
        "  return int(h)*3600+int(m)*60+int(s)\n",
        "\n",
        "time1 = time.apply(func_sec)\n",
        "df['duration'] = time1\n",
        "\n",
        "df.head()"
      ],
      "execution_count": 3,
      "outputs": [
        {
          "output_type": "stream",
          "text": [
            "(14999, 9)\n",
            "(14637, 9)\n"
          ],
          "name": "stdout"
        },
        {
          "output_type": "execute_result",
          "data": {
            "text/html": [
              "<div>\n",
              "<style scoped>\n",
              "    .dataframe tbody tr th:only-of-type {\n",
              "        vertical-align: middle;\n",
              "    }\n",
              "\n",
              "    .dataframe tbody tr th {\n",
              "        vertical-align: top;\n",
              "    }\n",
              "\n",
              "    .dataframe thead th {\n",
              "        text-align: right;\n",
              "    }\n",
              "</style>\n",
              "<table border=\"1\" class=\"dataframe\">\n",
              "  <thead>\n",
              "    <tr style=\"text-align: right;\">\n",
              "      <th></th>\n",
              "      <th>vidid</th>\n",
              "      <th>adview</th>\n",
              "      <th>views</th>\n",
              "      <th>likes</th>\n",
              "      <th>dislikes</th>\n",
              "      <th>comment</th>\n",
              "      <th>published</th>\n",
              "      <th>duration</th>\n",
              "      <th>category</th>\n",
              "    </tr>\n",
              "  </thead>\n",
              "  <tbody>\n",
              "    <tr>\n",
              "      <th>0</th>\n",
              "      <td>5912</td>\n",
              "      <td>40</td>\n",
              "      <td>1031602</td>\n",
              "      <td>8523</td>\n",
              "      <td>363</td>\n",
              "      <td>1095</td>\n",
              "      <td>2168</td>\n",
              "      <td>420</td>\n",
              "      <td>5</td>\n",
              "    </tr>\n",
              "    <tr>\n",
              "      <th>1</th>\n",
              "      <td>2741</td>\n",
              "      <td>2</td>\n",
              "      <td>1707</td>\n",
              "      <td>56</td>\n",
              "      <td>2</td>\n",
              "      <td>6</td>\n",
              "      <td>2185</td>\n",
              "      <td>540</td>\n",
              "      <td>3</td>\n",
              "    </tr>\n",
              "    <tr>\n",
              "      <th>2</th>\n",
              "      <td>8138</td>\n",
              "      <td>1</td>\n",
              "      <td>2023</td>\n",
              "      <td>25</td>\n",
              "      <td>0</td>\n",
              "      <td>2</td>\n",
              "      <td>2094</td>\n",
              "      <td>120</td>\n",
              "      <td>2</td>\n",
              "    </tr>\n",
              "    <tr>\n",
              "      <th>3</th>\n",
              "      <td>9005</td>\n",
              "      <td>6</td>\n",
              "      <td>620860</td>\n",
              "      <td>777</td>\n",
              "      <td>161</td>\n",
              "      <td>153</td>\n",
              "      <td>2119</td>\n",
              "      <td>240</td>\n",
              "      <td>7</td>\n",
              "    </tr>\n",
              "    <tr>\n",
              "      <th>4</th>\n",
              "      <td>122</td>\n",
              "      <td>1</td>\n",
              "      <td>666</td>\n",
              "      <td>1</td>\n",
              "      <td>0</td>\n",
              "      <td>0</td>\n",
              "      <td>2091</td>\n",
              "      <td>31</td>\n",
              "      <td>3</td>\n",
              "    </tr>\n",
              "  </tbody>\n",
              "</table>\n",
              "</div>"
            ],
            "text/plain": [
              "   vidid  adview    views  likes  ...  comment  published  duration  category\n",
              "0   5912      40  1031602   8523  ...     1095       2168       420         5\n",
              "1   2741       2     1707     56  ...        6       2185       540         3\n",
              "2   8138       1     2023     25  ...        2       2094       120         2\n",
              "3   9005       6   620860    777  ...      153       2119       240         7\n",
              "4    122       1      666      1  ...        0       2091        31         3\n",
              "\n",
              "[5 rows x 9 columns]"
            ]
          },
          "metadata": {
            "tags": []
          },
          "execution_count": 3
        }
      ]
    },
    {
      "cell_type": "markdown",
      "metadata": {
        "id": "Z2SCgqSo4QuW"
      },
      "source": [
        "Visualisation"
      ]
    },
    {
      "cell_type": "code",
      "metadata": {
        "colab": {
          "base_uri": "https://localhost:8080/",
          "height": 994
        },
        "id": "ECu2xiXF317d",
        "outputId": "43886b97-e915-4129-afb7-35cb6ea383ef"
      },
      "source": [
        "plt.hist(df.category)\n",
        "plt.show()\n",
        "plt.plot(df.adview)\n",
        "plt.show()\n",
        "\n",
        "#plotting correlation graph\n",
        "f, ax = plt.subplots(figsize=(10,8))\n",
        "corr = df.corr()\n",
        "sns.heatmap(corr, mask = np.zeros_like(corr, dtype=np.bool), cmap = sns.diverging_palette(220, 10, as_cmap = True), \n",
        "           square = True, ax=ax, annot=True)\n",
        "plt.show()"
      ],
      "execution_count": 4,
      "outputs": [
        {
          "output_type": "display_data",
          "data": {
            "image/png": "[encoded data removed]",
            "text/plain": [
              "<Figure size 432x288 with 1 Axes>"
            ]
          },
          "metadata": {
            "tags": [],
            "needs_background": "light"
          }
        },
        {
          "output_type": "display_data",
          "data": {
            "image/png": "[encoded data removed]",
            "text/plain": [
              "<Figure size 432x288 with 1 Axes>"
            ]
          },
          "metadata": {
            "tags": [],
            "needs_background": "light"
          }
        },
        {
          "output_type": "display_data",
          "data": {
            "image/png": "[encoded data removed]",
            "text/plain": [
              "<Figure size 720x576 with 2 Axes>"
            ]
          },
          "metadata": {
            "tags": [],
            "needs_background": "light"
          }
        }
      ]
    },
    {
      "cell_type": "markdown",
      "metadata": {
        "id": "4pQCeoLy4djC"
      },
      "source": [
        "Splitting of Data"
      ]
    },
    {
      "cell_type": "code",
      "metadata": {
        "colab": {
          "base_uri": "https://localhost:8080/"
        },
        "id": "ry-IkcOK34jf",
        "outputId": "8552fa13-2c95-4523-cc1f-63b1074e18b9"
      },
      "source": [
        "y_train = pd.DataFrame(data = df.iloc[:, 1].values, columns=['target'])\n",
        "df_train = df.drop(['adview'], axis = 1)\n",
        "df_train = df.drop(['vidid'], axis = 1)\n",
        "\n",
        "X_train, X_test, y_train, y_test = train_test_split(df_train, y_train, test_size = 0.2, random_state = 111)\n",
        "X_train.shape\n",
        "y_train.shape"
      ],
      "execution_count": 5,
      "outputs": [
        {
          "output_type": "execute_result",
          "data": {
            "text/plain": [
              "(11709, 1)"
            ]
          },
          "metadata": {
            "tags": []
          },
          "execution_count": 5
        }
      ]
    },
    {
      "cell_type": "markdown",
      "metadata": {
        "id": "pmCOCci04hEG"
      },
      "source": [
        "Normalisation"
      ]
    },
    {
      "cell_type": "code",
      "metadata": {
        "id": "skvL-JIX37Bh"
      },
      "source": [
        "scaler = MinMaxScaler()\n",
        "X_train = scaler.fit_transform(X_train)\n",
        "X_test = scaler.fit_transform(X_test)"
      ],
      "execution_count": 6,
      "outputs": []
    },
    {
      "cell_type": "markdown",
      "metadata": {
        "id": "yote2mDF4kH5"
      },
      "source": [
        "Evaluation Matrics"
      ]
    },
    {
      "cell_type": "code",
      "metadata": {
        "id": "00IUdx9x38rU"
      },
      "source": [
        "def print_error(X_test, y_test, model_name):\n",
        "    prediction = model_name.predict(X_test)\n",
        "    print(\"Mean Absolute Error:\", metrics.mean_absolute_error(y_test, prediction))\n",
        "    print(\"Mean Squared Error:\", metrics.mean_squared_error(y_test, prediction))\n",
        "    print(\"Root Mean Squared Error:\", np.sqrt(metrics.mean_squared_error(y_test, prediction)))"
      ],
      "execution_count": 7,
      "outputs": []
    },
    {
      "cell_type": "markdown",
      "metadata": {
        "id": "83fkb2k44nZX"
      },
      "source": [
        "Linear Regression"
      ]
    },
    {
      "cell_type": "code",
      "metadata": {
        "colab": {
          "base_uri": "https://localhost:8080/"
        },
        "id": "O1-N3EqR39V5",
        "outputId": "8115964e-e9f4-44b0-aeb8-2483acc95a5b"
      },
      "source": [
        "linear_regression = LinearRegression()\n",
        "linear_regression.fit(X_train, y_train)\n",
        "print_error(X_test, y_test, linear_regression)"
      ],
      "execution_count": 8,
      "outputs": [
        {
          "output_type": "stream",
          "text": [
            "Mean Absolute Error: 4017.6536771109736\n",
            "Mean Squared Error: 6281965312.28563\n",
            "Root Mean Squared Error: 79258.85005654341\n"
          ],
          "name": "stdout"
        }
      ]
    },
    {
      "cell_type": "markdown",
      "metadata": {
        "id": "8CZH2TSc4pkK"
      },
      "source": [
        "SVM"
      ]
    },
    {
      "cell_type": "code",
      "metadata": {
        "colab": {
          "base_uri": "https://localhost:8080/"
        },
        "id": "zOE395u_3-uO",
        "outputId": "c575e146-31d9-4724-9b73-d390498dd492"
      },
      "source": [
        "svr = SVR()\n",
        "svr.fit(X_train, y_train)\n",
        "print_error(X_test, y_test, svr)"
      ],
      "execution_count": 9,
      "outputs": [
        {
          "output_type": "stream",
          "text": [
            "/usr/local/lib/python3.7/dist-packages/sklearn/utils/validation.py:760: DataConversionWarning: A column-vector y was passed when a 1d array was expected. Please change the shape of y to (n_samples, ), for example using ravel().\n",
            "  y = column_or_1d(y, warn=True)\n"
          ],
          "name": "stderr"
        },
        {
          "output_type": "stream",
          "text": [
            "Mean Absolute Error: 1529.5279977266305\n",
            "Mean Squared Error: 910833558.6024585\n",
            "Root Mean Squared Error: 30180.01919486564\n"
          ],
          "name": "stdout"
        }
      ]
    },
    {
      "cell_type": "markdown",
      "metadata": {
        "id": "LECU4S1j4sdK"
      },
      "source": [
        "Decision Tree"
      ]
    },
    {
      "cell_type": "code",
      "metadata": {
        "colab": {
          "base_uri": "https://localhost:8080/"
        },
        "id": "bhrdCNEJ4CXX",
        "outputId": "dee1615b-b2fa-49ea-cbac-57c44784dcb3"
      },
      "source": [
        "decision_tree = DecisionTreeRegressor()\n",
        "decision_tree.fit(X_train, y_train)\n",
        "print_error(X_test, y_test, decision_tree)"
      ],
      "execution_count": 10,
      "outputs": [
        {
          "output_type": "stream",
          "text": [
            "Mean Absolute Error: 3798.9887295081967\n",
            "Mean Squared Error: 5918643122.164276\n",
            "Root Mean Squared Error: 76932.7181514099\n"
          ],
          "name": "stdout"
        }
      ]
    },
    {
      "cell_type": "markdown",
      "metadata": {
        "id": "vQwCSjXS4uJ_"
      },
      "source": [
        "Random Forest"
      ]
    },
    {
      "cell_type": "code",
      "metadata": {
        "colab": {
          "base_uri": "https://localhost:8080/"
        },
        "id": "-AAjLD2u4EAz",
        "outputId": "bb5095f9-6142-4513-d84d-8eb1614c7815"
      },
      "source": [
        "n_estimators = 200\n",
        "max_depth = 25\n",
        "min_samples_split = 15\n",
        "min_samples_leaf = 2\n",
        "\n",
        "random_forest = RandomForestRegressor(n_estimators = n_estimators, max_depth = max_depth, \n",
        "                                      min_samples_split = min_samples_split, min_samples_leaf = min_samples_leaf)\n",
        "random_forest.fit(X_train, y_train)\n",
        "print_error(X_test, y_test, random_forest)"
      ],
      "execution_count": 11,
      "outputs": [
        {
          "output_type": "stream",
          "text": [
            "/usr/local/lib/python3.7/dist-packages/ipykernel_launcher.py:8: DataConversionWarning: A column-vector y was passed when a 1d array was expected. Please change the shape of y to (n_samples,), for example using ravel().\n",
            "  \n"
          ],
          "name": "stderr"
        },
        {
          "output_type": "stream",
          "text": [
            "Mean Absolute Error: 3408.3012062914077\n",
            "Mean Squared Error: 2318651745.5765905\n",
            "Root Mean Squared Error: 48152.38047673854\n"
          ],
          "name": "stdout"
        }
      ]
    },
    {
      "cell_type": "markdown",
      "metadata": {
        "id": "6Q_6fT_Z4yYD"
      },
      "source": [
        "Keras"
      ]
    },
    {
      "cell_type": "code",
      "metadata": {
        "colab": {
          "base_uri": "https://localhost:8080/"
        },
        "id": "2sxM5XVT4GAk",
        "outputId": "81cde0b6-a999-4674-cc03-7629094f2fa3"
      },
      "source": [
        "krs = keras.models.Sequential([\n",
        "    keras.layers.Dense(6, activation = 'relu',\n",
        "         input_shape = X_train.shape[1:]),\n",
        "    keras.layers.Dense(6, activation = 'relu'),\n",
        "    keras.layers.Dense(1)\n",
        "])\n",
        "\n",
        "optimizer = keras.optimizers.Adam()\n",
        "loss = keras.losses.mean_squared_error\n",
        "\n",
        "krs.compile(optimizer = optimizer, loss = loss, metrics = ['mean_squared_error'])\n",
        "history = krs.fit(X_train, y_train, epochs = 100)\n",
        "\n",
        "krs.summary()\n",
        "\n",
        "print_error(X_test, y_test, krs)"
      ],
      "execution_count": 12,
      "outputs": [
        {
          "output_type": "stream",
          "text": [
            "Epoch 1/100\n",
            "366/366 [==============================] - 2s 2ms/step - loss: 3265877248.0000 - mean_squared_error: 3265877248.0000\n",
            "Epoch 2/100\n",
            "366/366 [==============================] - 1s 2ms/step - loss: 3265872384.0000 - mean_squared_error: 3265872384.0000\n",
            "Epoch 3/100\n",
            "366/366 [==============================] - 1s 2ms/step - loss: 3265861120.0000 - mean_squared_error: 3265861120.0000\n",
            "Epoch 4/100\n",
            "366/366 [==============================] - 1s 2ms/step - loss: 3265848320.0000 - mean_squared_error: 3265848320.0000\n",
            "Epoch 5/100\n",
            "366/366 [==============================] - 1s 2ms/step - loss: 3265831936.0000 - mean_squared_error: 3265831936.0000\n",
            "Epoch 6/100\n",
            "366/366 [==============================] - 1s 2ms/step - loss: 3265806080.0000 - mean_squared_error: 3265806080.0000\n",
            "Epoch 7/100\n",
            "366/366 [==============================] - 1s 2ms/step - loss: 3265769472.0000 - mean_squared_error: 3265769472.0000\n",
            "Epoch 8/100\n",
            "366/366 [==============================] - 1s 2ms/step - loss: 3265735168.0000 - mean_squared_error: 3265735168.0000\n",
            "Epoch 9/100\n",
            "366/366 [==============================] - 1s 2ms/step - loss: 3265688576.0000 - mean_squared_error: 3265688576.0000\n",
            "Epoch 10/100\n",
            "366/366 [==============================] - 1s 2ms/step - loss: 3265634560.0000 - mean_squared_error: 3265634560.0000\n",
            "Epoch 11/100\n",
            "366/366 [==============================] - 1s 2ms/step - loss: 3265572864.0000 - mean_squared_error: 3265572864.0000\n",
            "Epoch 12/100\n",
            "366/366 [==============================] - 1s 2ms/step - loss: 3265510912.0000 - mean_squared_error: 3265510912.0000\n",
            "Epoch 13/100\n",
            "366/366 [==============================] - 1s 2ms/step - loss: 3265440000.0000 - mean_squared_error: 3265440000.0000\n",
            "Epoch 14/100\n",
            "366/366 [==============================] - 1s 2ms/step - loss: 3265365504.0000 - mean_squared_error: 3265365504.0000\n",
            "Epoch 15/100\n",
            "366/366 [==============================] - 1s 2ms/step - loss: 3265283072.0000 - mean_squared_error: 3265283072.0000\n",
            "Epoch 16/100\n",
            "366/366 [==============================] - 1s 2ms/step - loss: 3265193216.0000 - mean_squared_error: 3265193216.0000\n",
            "Epoch 17/100\n",
            "366/366 [==============================] - 1s 2ms/step - loss: 3265086720.0000 - mean_squared_error: 3265086720.0000\n",
            "Epoch 18/100\n",
            "366/366 [==============================] - 1s 2ms/step - loss: 3264986112.0000 - mean_squared_error: 3264986112.0000\n",
            "Epoch 19/100\n",
            "366/366 [==============================] - 1s 2ms/step - loss: 3264893696.0000 - mean_squared_error: 3264893696.0000\n",
            "Epoch 20/100\n",
            "366/366 [==============================] - 1s 2ms/step - loss: 3264777216.0000 - mean_squared_error: 3264777216.0000\n",
            "Epoch 21/100\n",
            "366/366 [==============================] - 1s 2ms/step - loss: 3264658688.0000 - mean_squared_error: 3264658688.0000\n",
            "Epoch 22/100\n",
            "366/366 [==============================] - 1s 2ms/step - loss: 3264548352.0000 - mean_squared_error: 3264548352.0000\n",
            "Epoch 23/100\n",
            "366/366 [==============================] - 1s 2ms/step - loss: 3264423424.0000 - mean_squared_error: 3264423424.0000\n",
            "Epoch 24/100\n",
            "366/366 [==============================] - 1s 2ms/step - loss: 3264293632.0000 - mean_squared_error: 3264293632.0000\n",
            "Epoch 25/100\n",
            "366/366 [==============================] - 1s 2ms/step - loss: 3264152064.0000 - mean_squared_error: 3264152064.0000\n",
            "Epoch 26/100\n",
            "366/366 [==============================] - 1s 2ms/step - loss: 3264007424.0000 - mean_squared_error: 3264007424.0000\n",
            "Epoch 27/100\n",
            "366/366 [==============================] - 1s 2ms/step - loss: 3263863808.0000 - mean_squared_error: 3263863808.0000\n",
            "Epoch 28/100\n",
            "366/366 [==============================] - 1s 2ms/step - loss: 3263740928.0000 - mean_squared_error: 3263740928.0000\n",
            "Epoch 29/100\n",
            "366/366 [==============================] - 1s 2ms/step - loss: 3263593728.0000 - mean_squared_error: 3263593728.0000\n",
            "Epoch 30/100\n",
            "366/366 [==============================] - 1s 2ms/step - loss: 3263443968.0000 - mean_squared_error: 3263443968.0000\n",
            "Epoch 31/100\n",
            "366/366 [==============================] - 1s 2ms/step - loss: 3263295232.0000 - mean_squared_error: 3263295232.0000\n",
            "Epoch 32/100\n",
            "366/366 [==============================] - 1s 2ms/step - loss: 3263142400.0000 - mean_squared_error: 3263142400.0000\n",
            "Epoch 33/100\n",
            "366/366 [==============================] - 1s 2ms/step - loss: 3262998016.0000 - mean_squared_error: 3262998016.0000\n",
            "Epoch 34/100\n",
            "366/366 [==============================] - 1s 2ms/step - loss: 3262851072.0000 - mean_squared_error: 3262851072.0000\n",
            "Epoch 35/100\n",
            "366/366 [==============================] - 1s 2ms/step - loss: 3262702592.0000 - mean_squared_error: 3262702592.0000\n",
            "Epoch 36/100\n",
            "366/366 [==============================] - 1s 2ms/step - loss: 3262561280.0000 - mean_squared_error: 3262561280.0000\n",
            "Epoch 37/100\n",
            "366/366 [==============================] - 1s 2ms/step - loss: 3262419200.0000 - mean_squared_error: 3262419200.0000\n",
            "Epoch 38/100\n",
            "366/366 [==============================] - 1s 2ms/step - loss: 3262266880.0000 - mean_squared_error: 3262266880.0000\n",
            "Epoch 39/100\n",
            "366/366 [==============================] - 1s 2ms/step - loss: 3262123520.0000 - mean_squared_error: 3262123520.0000\n",
            "Epoch 40/100\n",
            "366/366 [==============================] - 1s 2ms/step - loss: 3261980928.0000 - mean_squared_error: 3261980928.0000\n",
            "Epoch 41/100\n",
            "366/366 [==============================] - 1s 2ms/step - loss: 3261853952.0000 - mean_squared_error: 3261853952.0000\n",
            "Epoch 42/100\n",
            "366/366 [==============================] - 1s 2ms/step - loss: 3261725952.0000 - mean_squared_error: 3261725952.0000\n",
            "Epoch 43/100\n",
            "366/366 [==============================] - 1s 2ms/step - loss: 3261585664.0000 - mean_squared_error: 3261585664.0000\n",
            "Epoch 44/100\n",
            "366/366 [==============================] - 1s 2ms/step - loss: 3261450496.0000 - mean_squared_error: 3261450496.0000\n",
            "Epoch 45/100\n",
            "366/366 [==============================] - 1s 2ms/step - loss: 3261323776.0000 - mean_squared_error: 3261323776.0000\n",
            "Epoch 46/100\n",
            "366/366 [==============================] - 1s 2ms/step - loss: 3261198592.0000 - mean_squared_error: 3261198592.0000\n",
            "Epoch 47/100\n",
            "366/366 [==============================] - 1s 2ms/step - loss: 3261080832.0000 - mean_squared_error: 3261080832.0000\n",
            "Epoch 48/100\n",
            "366/366 [==============================] - 1s 2ms/step - loss: 3260961280.0000 - mean_squared_error: 3260961280.0000\n",
            "Epoch 49/100\n",
            "366/366 [==============================] - 1s 2ms/step - loss: 3260842240.0000 - mean_squared_error: 3260842240.0000\n",
            "Epoch 50/100\n",
            "366/366 [==============================] - 1s 2ms/step - loss: 3260727296.0000 - mean_squared_error: 3260727296.0000\n",
            "Epoch 51/100\n",
            "366/366 [==============================] - 1s 2ms/step - loss: 3260611328.0000 - mean_squared_error: 3260611328.0000\n",
            "Epoch 52/100\n",
            "366/366 [==============================] - 1s 2ms/step - loss: 3260508160.0000 - mean_squared_error: 3260508160.0000\n",
            "Epoch 53/100\n",
            "366/366 [==============================] - 1s 2ms/step - loss: 3260399104.0000 - mean_squared_error: 3260399104.0000\n",
            "Epoch 54/100\n",
            "366/366 [==============================] - 1s 2ms/step - loss: 3260291584.0000 - mean_squared_error: 3260291584.0000\n",
            "Epoch 55/100\n",
            "366/366 [==============================] - 1s 2ms/step - loss: 3260192768.0000 - mean_squared_error: 3260192768.0000\n",
            "Epoch 56/100\n",
            "366/366 [==============================] - 1s 2ms/step - loss: 3260084992.0000 - mean_squared_error: 3260084992.0000\n",
            "Epoch 57/100\n",
            "366/366 [==============================] - 1s 2ms/step - loss: 3259979264.0000 - mean_squared_error: 3259979264.0000\n",
            "Epoch 58/100\n",
            "366/366 [==============================] - 1s 2ms/step - loss: 3259877376.0000 - mean_squared_error: 3259877376.0000\n",
            "Epoch 59/100\n",
            "366/366 [==============================] - 1s 2ms/step - loss: 3259777792.0000 - mean_squared_error: 3259777792.0000\n",
            "Epoch 60/100\n",
            "366/366 [==============================] - 1s 2ms/step - loss: 3259680000.0000 - mean_squared_error: 3259680000.0000\n",
            "Epoch 61/100\n",
            "366/366 [==============================] - 1s 2ms/step - loss: 3259591680.0000 - mean_squared_error: 3259591680.0000\n",
            "Epoch 62/100\n",
            "366/366 [==============================] - 1s 2ms/step - loss: 3259490304.0000 - mean_squared_error: 3259490304.0000\n",
            "Epoch 63/100\n",
            "366/366 [==============================] - 1s 2ms/step - loss: 3259401472.0000 - mean_squared_error: 3259401472.0000\n",
            "Epoch 64/100\n",
            "366/366 [==============================] - 1s 2ms/step - loss: 3259316224.0000 - mean_squared_error: 3259316224.0000\n",
            "Epoch 65/100\n",
            "366/366 [==============================] - 1s 2ms/step - loss: 3259225344.0000 - mean_squared_error: 3259225344.0000\n",
            "Epoch 66/100\n",
            "366/366 [==============================] - 1s 2ms/step - loss: 3259140096.0000 - mean_squared_error: 3259140096.0000\n",
            "Epoch 67/100\n",
            "366/366 [==============================] - 1s 2ms/step - loss: 3259057408.0000 - mean_squared_error: 3259057408.0000\n",
            "Epoch 68/100\n",
            "366/366 [==============================] - 1s 2ms/step - loss: 3258968832.0000 - mean_squared_error: 3258968832.0000\n",
            "Epoch 69/100\n",
            "366/366 [==============================] - 1s 2ms/step - loss: 3258882048.0000 - mean_squared_error: 3258882048.0000\n",
            "Epoch 70/100\n",
            "366/366 [==============================] - 1s 2ms/step - loss: 3258793728.0000 - mean_squared_error: 3258793728.0000\n",
            "Epoch 71/100\n",
            "366/366 [==============================] - 1s 2ms/step - loss: 3258712320.0000 - mean_squared_error: 3258712320.0000\n",
            "Epoch 72/100\n",
            "366/366 [==============================] - 1s 2ms/step - loss: 3258629888.0000 - mean_squared_error: 3258629888.0000\n",
            "Epoch 73/100\n",
            "366/366 [==============================] - 1s 2ms/step - loss: 3258537216.0000 - mean_squared_error: 3258537216.0000\n",
            "Epoch 74/100\n",
            "366/366 [==============================] - 1s 2ms/step - loss: 3258450432.0000 - mean_squared_error: 3258450432.0000\n",
            "Epoch 75/100\n",
            "366/366 [==============================] - 1s 2ms/step - loss: 3258363904.0000 - mean_squared_error: 3258363904.0000\n",
            "Epoch 76/100\n",
            "366/366 [==============================] - 1s 2ms/step - loss: 3258287104.0000 - mean_squared_error: 3258287104.0000\n",
            "Epoch 77/100\n",
            "366/366 [==============================] - 1s 2ms/step - loss: 3258203392.0000 - mean_squared_error: 3258203392.0000\n",
            "Epoch 78/100\n",
            "366/366 [==============================] - 1s 2ms/step - loss: 3258122496.0000 - mean_squared_error: 3258122496.0000\n",
            "Epoch 79/100\n",
            "366/366 [==============================] - 1s 2ms/step - loss: 3258040832.0000 - mean_squared_error: 3258040832.0000\n",
            "Epoch 80/100\n",
            "366/366 [==============================] - 1s 2ms/step - loss: 3257966080.0000 - mean_squared_error: 3257966080.0000\n",
            "Epoch 81/100\n",
            "366/366 [==============================] - 1s 2ms/step - loss: 3257880576.0000 - mean_squared_error: 3257880576.0000\n",
            "Epoch 82/100\n",
            "366/366 [==============================] - 1s 2ms/step - loss: 3257804032.0000 - mean_squared_error: 3257804032.0000\n",
            "Epoch 83/100\n",
            "366/366 [==============================] - 1s 2ms/step - loss: 3257720576.0000 - mean_squared_error: 3257720576.0000\n",
            "Epoch 84/100\n",
            "366/366 [==============================] - 1s 2ms/step - loss: 3257640192.0000 - mean_squared_error: 3257640192.0000\n",
            "Epoch 85/100\n",
            "366/366 [==============================] - 1s 2ms/step - loss: 3257562368.0000 - mean_squared_error: 3257562368.0000\n",
            "Epoch 86/100\n",
            "366/366 [==============================] - 1s 2ms/step - loss: 3257478656.0000 - mean_squared_error: 3257478656.0000\n",
            "Epoch 87/100\n",
            "366/366 [==============================] - 1s 2ms/step - loss: 3257404160.0000 - mean_squared_error: 3257404160.0000\n",
            "Epoch 88/100\n",
            "366/366 [==============================] - 1s 2ms/step - loss: 3257327872.0000 - mean_squared_error: 3257327872.0000\n",
            "Epoch 89/100\n",
            "366/366 [==============================] - 1s 2ms/step - loss: 3257260800.0000 - mean_squared_error: 3257260800.0000\n",
            "Epoch 90/100\n",
            "366/366 [==============================] - 1s 2ms/step - loss: 3257170176.0000 - mean_squared_error: 3257170176.0000\n",
            "Epoch 91/100\n",
            "366/366 [==============================] - 1s 2ms/step - loss: 3257093632.0000 - mean_squared_error: 3257093632.0000\n",
            "Epoch 92/100\n",
            "366/366 [==============================] - 1s 2ms/step - loss: 3257015552.0000 - mean_squared_error: 3257015552.0000\n",
            "Epoch 93/100\n",
            "366/366 [==============================] - 1s 2ms/step - loss: 3256939264.0000 - mean_squared_error: 3256939264.0000\n",
            "Epoch 94/100\n",
            "366/366 [==============================] - 1s 2ms/step - loss: 3256854784.0000 - mean_squared_error: 3256854784.0000\n",
            "Epoch 95/100\n",
            "366/366 [==============================] - 1s 2ms/step - loss: 3256773120.0000 - mean_squared_error: 3256773120.0000\n",
            "Epoch 96/100\n",
            "366/366 [==============================] - 1s 2ms/step - loss: 3256694784.0000 - mean_squared_error: 3256694784.0000\n",
            "Epoch 97/100\n",
            "366/366 [==============================] - 1s 2ms/step - loss: 3256616704.0000 - mean_squared_error: 3256616704.0000\n",
            "Epoch 98/100\n",
            "366/366 [==============================] - 1s 2ms/step - loss: 3256538624.0000 - mean_squared_error: 3256538624.0000\n",
            "Epoch 99/100\n",
            "366/366 [==============================] - 1s 2ms/step - loss: 3256462848.0000 - mean_squared_error: 3256462848.0000\n",
            "Epoch 100/100\n",
            "366/366 [==============================] - 1s 2ms/step - loss: 3256376576.0000 - mean_squared_error: 3256376576.0000\n",
            "Model: \"sequential\"\n",
            "_________________________________________________________________\n",
            "Layer (type)                 Output Shape              Param #   \n",
            "=================================================================\n",
            "dense (Dense)                (None, 6)                 54        \n",
            "_________________________________________________________________\n",
            "dense_1 (Dense)              (None, 6)                 42        \n",
            "_________________________________________________________________\n",
            "dense_2 (Dense)              (None, 1)                 7         \n",
            "=================================================================\n",
            "Total params: 103\n",
            "Trainable params: 103\n",
            "Non-trainable params: 0\n",
            "_________________________________________________________________\n",
            "Mean Absolute Error: 3330.530395704866\n",
            "Mean Squared Error: 905721614.2700136\n",
            "Root Mean Squared Error: 30095.20915810378\n"
          ],
          "name": "stdout"
        }
      ]
    },
    {
      "cell_type": "markdown",
      "metadata": {
        "id": "ZswUnqr34xbR"
      },
      "source": [
        "Saving Best Model"
      ]
    },
    {
      "cell_type": "code",
      "metadata": {
        "id": "EM30vGJ24HxQ",
        "colab": {
          "base_uri": "https://localhost:8080/"
        },
        "outputId": "7a02d1d5-55ca-46a7-d208-651b95e4a736"
      },
      "source": [
        "import joblib \n",
        "joblib.dump(svr, \"svr_model.pkl\")"
      ],
      "execution_count": 13,
      "outputs": [
        {
          "output_type": "execute_result",
          "data": {
            "text/plain": [
              "['svr_model.pkl']"
            ]
          },
          "metadata": {
            "tags": []
          },
          "execution_count": 13
        }
      ]
    },
    {
      "cell_type": "markdown",
      "metadata": {
        "id": "JSaCVu0LDXW4"
      },
      "source": [
        "Loading, Pre-processing and testing on test set"
      ]
    },
    {
      "cell_type": "code",
      "metadata": {
        "id": "Os05rFfZFT94",
        "colab": {
          "base_uri": "https://localhost:8080/",
          "height": 238
        },
        "outputId": "1a5f8321-4446-430a-ec64-a588d8690fc6"
      },
      "source": [
        "data2 = pd.read_csv('test.csv')\n",
        "df2 = pd.DataFrame(data2)\n",
        "print(df2.shape)\n",
        "\n",
        "df2 = df2[df2.views!='F']\n",
        "df2 = df2[df2.likes!='F']\n",
        "df2 = df2[df2.dislikes!='F']\n",
        "df2 = df2[df2.comment!='F']\n",
        "\n",
        "print(df2.shape)\n",
        "\n",
        "df2['views'] = pd.to_numeric(df2['views'])\n",
        "df2['likes'] = pd.to_numeric(df2['likes'])\n",
        "df2['dislikes'] = pd.to_numeric(df2['dislikes'])\n",
        "df2['comment'] = pd.to_numeric(df2['comment'])\n",
        "\n",
        "df2['vidid'] = LabelEncoder().fit_transform(df2['vidid'])\n",
        "df2['published'] = LabelEncoder().fit_transform(df2['published'])\n",
        "df2['duration'] = LabelEncoder().fit_transform(df2['duration'])\n",
        "df2['category'] = LabelEncoder().fit_transform(df2['category'])\n",
        "\n",
        "time1 = data2[\"duration\"].apply(checki)\n",
        "def func_sec(time_string):\n",
        "  h,m,s = time_string.split(':')\n",
        "  return int(h)*3600+int(m)*60+int(s)\n",
        "\n",
        "time2 = time1.apply(func_sec)\n",
        "df2['duration'] = time2\n",
        "\n",
        "df2.head()"
      ],
      "execution_count": 14,
      "outputs": [
        {
          "output_type": "stream",
          "text": [
            "(8764, 8)\n",
            "(8549, 8)\n"
          ],
          "name": "stdout"
        },
        {
          "output_type": "execute_result",
          "data": {
            "text/html": [
              "<div>\n",
              "<style scoped>\n",
              "    .dataframe tbody tr th:only-of-type {\n",
              "        vertical-align: middle;\n",
              "    }\n",
              "\n",
              "    .dataframe tbody tr th {\n",
              "        vertical-align: top;\n",
              "    }\n",
              "\n",
              "    .dataframe thead th {\n",
              "        text-align: right;\n",
              "    }\n",
              "</style>\n",
              "<table border=\"1\" class=\"dataframe\">\n",
              "  <thead>\n",
              "    <tr style=\"text-align: right;\">\n",
              "      <th></th>\n",
              "      <th>vidid</th>\n",
              "      <th>views</th>\n",
              "      <th>likes</th>\n",
              "      <th>dislikes</th>\n",
              "      <th>comment</th>\n",
              "      <th>published</th>\n",
              "      <th>duration</th>\n",
              "      <th>category</th>\n",
              "    </tr>\n",
              "  </thead>\n",
              "  <tbody>\n",
              "    <tr>\n",
              "      <th>0</th>\n",
              "      <td>231</td>\n",
              "      <td>440238</td>\n",
              "      <td>6153</td>\n",
              "      <td>218</td>\n",
              "      <td>1377</td>\n",
              "      <td>2053</td>\n",
              "      <td>420</td>\n",
              "      <td>1</td>\n",
              "    </tr>\n",
              "    <tr>\n",
              "      <th>1</th>\n",
              "      <td>3444</td>\n",
              "      <td>1040132</td>\n",
              "      <td>8171</td>\n",
              "      <td>340</td>\n",
              "      <td>1047</td>\n",
              "      <td>1825</td>\n",
              "      <td>360</td>\n",
              "      <td>5</td>\n",
              "    </tr>\n",
              "    <tr>\n",
              "      <th>2</th>\n",
              "      <td>1593</td>\n",
              "      <td>28534</td>\n",
              "      <td>31</td>\n",
              "      <td>11</td>\n",
              "      <td>1</td>\n",
              "      <td>1009</td>\n",
              "      <td>2220</td>\n",
              "      <td>3</td>\n",
              "    </tr>\n",
              "    <tr>\n",
              "      <th>3</th>\n",
              "      <td>3775</td>\n",
              "      <td>1316715</td>\n",
              "      <td>2284</td>\n",
              "      <td>250</td>\n",
              "      <td>274</td>\n",
              "      <td>116</td>\n",
              "      <td>540</td>\n",
              "      <td>6</td>\n",
              "    </tr>\n",
              "    <tr>\n",
              "      <th>4</th>\n",
              "      <td>7644</td>\n",
              "      <td>1893173</td>\n",
              "      <td>2519</td>\n",
              "      <td>225</td>\n",
              "      <td>116</td>\n",
              "      <td>1892</td>\n",
              "      <td>180</td>\n",
              "      <td>1</td>\n",
              "    </tr>\n",
              "  </tbody>\n",
              "</table>\n",
              "</div>"
            ],
            "text/plain": [
              "   vidid    views  likes  dislikes  comment  published  duration  category\n",
              "0    231   440238   6153       218     1377       2053       420         1\n",
              "1   3444  1040132   8171       340     1047       1825       360         5\n",
              "2   1593    28534     31        11        1       1009      2220         3\n",
              "3   3775  1316715   2284       250      274        116       540         6\n",
              "4   7644  1893173   2519       225      116       1892       180         1"
            ]
          },
          "metadata": {
            "tags": []
          },
          "execution_count": 14
        }
      ]
    },
    {
      "cell_type": "code",
      "metadata": {
        "id": "esLbSAeRFmQ-"
      },
      "source": [
        "scaler = MinMaxScaler()\n",
        "test_set = scaler.fit_transform(df2)"
      ],
      "execution_count": 15,
      "outputs": []
    },
    {
      "cell_type": "code",
      "metadata": {
        "id": "IRh2lkkXDWUi",
        "colab": {
          "base_uri": "https://localhost:8080/"
        },
        "outputId": "548580b0-3354-41e8-cba3-3aba3497f22f"
      },
      "source": [
        "loaded_model = joblib.load('svr_model.pkl')\n",
        "results = loaded_model.predict(test_set)\n",
        "print(results)"
      ],
      "execution_count": 16,
      "outputs": [
        {
          "output_type": "stream",
          "text": [
            "[2.78276557 6.42834454 3.72643075 ... 6.76246502 7.70514439 7.59874764]\n"
          ],
          "name": "stdout"
        }
      ]
    },
    {
      "cell_type": "markdown",
      "metadata": {
        "id": "6jNhHU3BOMMA"
      },
      "source": [
        "Saving into a CSV file"
      ]
    },
    {
      "cell_type": "code",
      "metadata": {
        "id": "F2Xq8xzEOLON"
      },
      "source": [
        "prediction_data = pd.DataFrame(results)\n",
        "prediction_data.to_csv('PredictedAdview.csv')"
      ],
      "execution_count": 17,
      "outputs": []
    }
  ]
}